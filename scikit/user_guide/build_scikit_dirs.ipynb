{
 "cells": [
  {
   "cell_type": "code",
   "execution_count": 1,
   "id": "8982b627",
   "metadata": {},
   "outputs": [],
   "source": [
    "import os\n",
    "import sys"
   ]
  },
  {
   "cell_type": "code",
   "execution_count": 2,
   "id": "fe206a66",
   "metadata": {},
   "outputs": [],
   "source": [
    "import numpy as np"
   ]
  },
  {
   "cell_type": "code",
   "execution_count": 13,
   "id": "f91ecd00",
   "metadata": {},
   "outputs": [],
   "source": [
    "def get_chapters(N, n):\n",
    "    chap1 = [str(N) + \".\" + str(int(x)) for x in np.linspace(1, n, n)]\n",
    "    # print(chap1)\n",
    "    return chap1"
   ]
  },
  {
   "cell_type": "code",
   "execution_count": 19,
   "id": "6628d447",
   "metadata": {},
   "outputs": [],
   "source": [
    "dct = {}\n",
    "\n",
    "dct[1] = get_chapters(1, 17)\n",
    "dct[2] = get_chapters(2, 9)\n",
    "dct[3] = get_chapters(3, 4)\n",
    "dct[4] = get_chapters(4, 2)\n",
    "dct[5] = get_chapters(5, 1)\n",
    "dct[6] = get_chapters(6, 9)\n",
    "dct[7] = get_chapters(7, 4)\n",
    "dct[8] = get_chapters(8, 3)\n",
    "dct[9] = get_chapters(9, 2)\n",
    "dct[10] = get_chapters(10, 3)"
   ]
  },
  {
   "cell_type": "code",
   "execution_count": 24,
   "id": "fa8b2641",
   "metadata": {},
   "outputs": [
    {
     "name": "stdout",
     "output_type": "stream",
     "text": [
      "1 ['1.1', '1.2', '1.3', '1.4', '1.5', '1.6', '1.7', '1.8', '1.9', '1.10', '1.11', '1.12', '1.13', '1.14', '1.15', '1.16', '1.17']\n",
      "2 ['2.1', '2.2', '2.3', '2.4', '2.5', '2.6', '2.7', '2.8', '2.9']\n",
      "3 ['3.1', '3.2', '3.3', '3.4']\n",
      "4 ['4.1', '4.2']\n",
      "5 ['5.1']\n",
      "6 ['6.1', '6.2', '6.3', '6.4', '6.5', '6.6', '6.7', '6.8', '6.9']\n",
      "7 ['7.1', '7.2', '7.3', '7.4']\n",
      "8 ['8.1', '8.2', '8.3']\n",
      "9 ['9.1', '9.2']\n",
      "10 ['10.1', '10.2', '10.3']\n"
     ]
    }
   ],
   "source": [
    "for k,v in dct.items():\n",
    "    print(k, v)\n",
    "    for d in v:\n",
    "        os.makedirs(d)"
   ]
  },
  {
   "cell_type": "code",
   "execution_count": null,
   "id": "60f8ea26",
   "metadata": {},
   "outputs": [],
   "source": []
  }
 ],
 "metadata": {
  "kernelspec": {
   "display_name": "py38",
   "language": "python",
   "name": "py38"
  },
  "language_info": {
   "codemirror_mode": {
    "name": "ipython",
    "version": 3
   },
   "file_extension": ".py",
   "mimetype": "text/x-python",
   "name": "python",
   "nbconvert_exporter": "python",
   "pygments_lexer": "ipython3",
   "version": "3.8.0"
  }
 },
 "nbformat": 4,
 "nbformat_minor": 5
}
